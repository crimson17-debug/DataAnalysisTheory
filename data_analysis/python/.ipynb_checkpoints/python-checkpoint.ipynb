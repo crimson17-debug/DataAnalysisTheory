{
 "cells": [
  {
   "cell_type": "code",
   "execution_count": 3,
   "id": "62cb2f93-f7a3-4d7e-bfab-18d556f1faca",
   "metadata": {},
   "outputs": [
    {
     "name": "stdout",
     "output_type": "stream",
     "text": [
      "hello world\n"
     ]
    }
   ],
   "source": [
    "print(\"hello world\")"
   ]
  },
  {
   "cell_type": "markdown",
   "id": "ea59c2f9-c985-4c7b-abad-90b9b0d10068",
   "metadata": {},
   "source": [
    "a grocery sotre sells a bag of ice for 1.25 and make 20%profit. if it sells  500 bags of ice, how much total profit does it make?\n",
    "\n",
    "cost of ice = $1.25\n",
    "profit = 20% = 20/100 * 1.25 => 0.25$ profit\n",
    "no of bags = 500\n",
    "total profit => 500 *(0.25)= 125 dollars"
   ]
  },
  {
   "cell_type": "code",
   "execution_count": 8,
   "id": "77e3ce2b-06d9-43c7-b3a0-2d1b17c7f68a",
   "metadata": {},
   "outputs": [
    {
     "name": "stdin",
     "output_type": "stream",
     "text": [
      "enter the cost 1.25\n",
      "enter the profit in percentage 20\n",
      "enter the no of bags 500\n"
     ]
    },
    {
     "name": "stdout",
     "output_type": "stream",
     "text": [
      "toal profit is  125.0\n",
      "no the ice is not expensive\n"
     ]
    }
   ],
   "source": [
    "def totalProfit(cost, profit_percentage,total_bags):\n",
    "    total_profit = total_bags*(profit_percentage * cost)\n",
    "    return total_profit\n",
    "def is_ice_expensive(cost):\n",
    "    if(cost >= 10):\n",
    "        return True\n",
    "    else:\n",
    "        return False\n",
    "\n",
    "cost = float(input(\"enter the cost\"))\n",
    "profit= float(input(\"enter the profit in percentage\"))\n",
    "bags= int(input(\"enter the no of bags\"))\n",
    "\n",
    "total_profit= totalProfit(cost, profit/100 , bags)\n",
    "\n",
    "is_ice_expensive =is_ice_expensive(cost)\n",
    "\n",
    "print(\"toal profit is \", total_profit)\n",
    "if(is_ice_expensive == True):\n",
    "    print(\"yes the ice is expensive\")\n",
    "else:\n",
    "    print(\"no the ice is not expensive\")\n"
   ]
  },
  {
   "cell_type": "code",
   "execution_count": null,
   "id": "69f9ac85-6004-455f-8a8b-661d16633623",
   "metadata": {},
   "outputs": [],
   "source": []
  }
 ],
 "metadata": {
  "kernelspec": {
   "display_name": "Python 3 (ipykernel)",
   "language": "python",
   "name": "python3"
  },
  "language_info": {
   "codemirror_mode": {
    "name": "ipython",
    "version": 3
   },
   "file_extension": ".py",
   "mimetype": "text/x-python",
   "name": "python",
   "nbconvert_exporter": "python",
   "pygments_lexer": "ipython3",
   "version": "3.13.0"
  }
 },
 "nbformat": 4,
 "nbformat_minor": 5
}
