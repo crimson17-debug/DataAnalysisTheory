{
 "cells": [
  {
   "cell_type": "markdown",
   "id": "1d52e6b5-e13c-4da9-acab-9b4927528ede",
   "metadata": {},
   "source": [
    "# python tasks"
   ]
  },
  {
   "cell_type": "markdown",
   "id": "c196f3a2-0aba-4445-8df6-673c63f191c9",
   "metadata": {},
   "source": [
    "## task1"
   ]
  },
  {
   "cell_type": "markdown",
   "id": "6e3a8c1e",
   "metadata": {},
   "source": [
    "### create a set containing all the names of the employees\n"
   ]
  },
  {
   "cell_type": "code",
   "execution_count": 3,
   "id": "c9102a96-f03e-40b9-bc09-5d2a8ca3c93c",
   "metadata": {},
   "outputs": [
    {
     "name": "stdout",
     "output_type": "stream",
     "text": [
      "['Navya1', 'Navya2', 'Navya3', 'Navya4', 'Navya5']\n",
      "[12, 13, 14, 15, 16]\n",
      "['google', 'microsoft', 'infosys', 'wipro', 'amazon']\n",
      "[1000, 2000, 3000, 4000, 5000]\n"
     ]
    }
   ],
   "source": [
    "\n",
    "data1 = {\"name\":\"Navya1\", \"age\": 12, \"company\":\"google\", \"salary\": 1000}\n",
    "data2 = {\"name\":\"Navya2\", \"age\": 13, \"company\":\"microsoft\", \"salary\": 2000}\n",
    "data3 = {\"name\":\"Navya3\", \"age\": 14, \"company\":\"infosys\", \"salary\": 3000}\n",
    "data4 = {\"name\":\"Navya4\", \"age\": 15, \"company\":\"wipro\", \"salary\": 4000}\n",
    "data5 = {\"name\":\"Navya5\", \"age\": 16, \"company\":\"amazon\", \"salary\": 5000}\n",
    "\n",
    "data_list = [data1, data2, data3, data4, data5]\n",
    "\n",
    "#accesing method 1\n",
    "\"\"\"employees = { data1['name'], data2['name'], data3['name'],data4['name'],data5['name'] }\n",
    "age = { data1['age'], data2['age'], data3['age'],data4['age'],data5['age'] }\n",
    "company = { data1['company'], data2['company'], data3['company'],data4['company'],data5['company'] }\n",
    "salary = { data1['salary'], data2['salary'], data3['salary'],data4['salary'],data5['salary'] }\"\"\"\n",
    "\n",
    "#accesing method 2\n",
    "\"\"\"employees = [data['name'] for data in data_list]\n",
    "ages = [data['age'] for data in data_list]\n",
    "companies = [data['company'] for data in data_list]\n",
    "salaries = [data['salary'] for data in data_list]\"\"\"\n",
    "employees = []\n",
    "for data in data_list:\n",
    "    emp = data[\"name\"]\n",
    "\n",
    "    employees.append(emp)\n",
    "\n",
    "ages = []\n",
    "for data in data_list:\n",
    "    ag = data[\"age\"]\n",
    "\n",
    "    ages.append(ag)\n",
    "    \n",
    "companies = []\n",
    "for data in data_list:\n",
    "    com = data[\"company\"]\n",
    "\n",
    "    companies.append(com)\n",
    "\n",
    "salaries = []\n",
    "for data in data_list:\n",
    "    sal = data[\"salary\"]\n",
    "\n",
    "    salaries.append(sal)\n",
    "\n",
    "print(employees)\n",
    "print(ages)\n",
    "print(companies)\n",
    "print(salaries)\n"
   ]
  },
  {
   "cell_type": "markdown",
   "id": "14c3f2f4-d7d0-4ea5-aff9-f039c109302b",
   "metadata": {},
   "source": [
    "## task2"
   ]
  },
  {
   "cell_type": "markdown",
   "id": "d2d4be9e",
   "metadata": {},
   "source": [
    "### create a dictionary from data to store a key value pair of company and salary"
   ]
  },
  {
   "cell_type": "code",
   "execution_count": 39,
   "id": "26dd6349-7807-4273-a96f-d5def8711ce2",
   "metadata": {},
   "outputs": [
    {
     "name": "stdout",
     "output_type": "stream",
     "text": [
      "{'google': 1000, 'microsoft': 2000, 'infosys': 3000, 'wipro': 4000, 'amazon': 5000}\n"
     ]
    }
   ],
   "source": [
    "comp_sal = {}\n",
    "for data in data_list:\n",
    "    salary1 = data[\"salary\"]\n",
    "    company = data['company']\n",
    "    comp_sal[company] = salary1\n",
    "print(comp_sal)\n"
   ]
  },
  {
   "cell_type": "markdown",
   "id": "5b1ef4b6-5d9b-4c72-855c-2513c1336d1d",
   "metadata": {},
   "source": [
    "## task3"
   ]
  },
  {
   "cell_type": "markdown",
   "id": "7c046401",
   "metadata": {},
   "source": [
    "### use variables to store immediate values like salary\n"
   ]
  },
  {
   "cell_type": "code",
   "execution_count": 24,
   "id": "e0892057",
   "metadata": {},
   "outputs": [
    {
     "name": "stdout",
     "output_type": "stream",
     "text": [
      "['Navya1', 'Navya2', 'Navya3', 'Navya4', 'Navya5']\n",
      "[12, 13, 14, 15, 16]\n",
      "['google', 'microsoft', 'infosys', 'wipro', 'amazon']\n",
      "[1000, 2000, 3000, 4000, 5000]\n"
     ]
    }
   ],
   "source": [
    "employees = [data['name'] for data in data_list]\n",
    "ages = [data['age'] for data in data_list]\n",
    "companies = [data['company'] for data in data_list]\n",
    "salaries = [data['salary'] for data in data_list]\n",
    "\n",
    "print(employees)\n",
    "print(ages)\n",
    "print(companies)\n",
    "print(salaries)\n"
   ]
  },
  {
   "cell_type": "markdown",
   "id": "becd4029-f0de-429d-9bf1-5fcdefeff25f",
   "metadata": {},
   "source": [
    "## TASK4"
   ]
  },
  {
   "cell_type": "markdown",
   "id": "60664979",
   "metadata": {},
   "source": [
    "### implement the following deduction rule using if elif else statement\n",
    "if google duducts 10%\n",
    "if microsoft deducts 20%\n",
    "if  wipro deducts 40%\n",
    "if  infosys deducts 30%"
   ]
  },
  {
   "cell_type": "code",
   "execution_count": 26,
   "id": "eefcdd7c-800c-436d-b9ea-d4d8f3170520",
   "metadata": {},
   "outputs": [
    {
     "name": "stdout",
     "output_type": "stream",
     "text": [
      "[100.0, 400.0, 900.0, 1600.0, 2500.0]\n"
     ]
    }
   ],
   "source": [
    "def deduce_salary(company):\n",
    "    if company == \"google\":\n",
    "        return comp_salary[\"google\"]*0.1\n",
    "    if company == \"microsoft\":\n",
    "        return comp_salary[\"microsoft\"]*0.2\n",
    "    if company == \"infosys\":\n",
    "        return comp_salary[\"infosys\"]*0.3\n",
    "    if company == \"wipro\":\n",
    "        return comp_salary[\"wipro\"]*0.4\n",
    "    if company == 'amazon':\n",
    "        return comp_salary['amazon']*0.5\n",
    "\n",
    "ded_sal1 =deduce_salary('google')\n",
    "ded_sal2 = deduce_salary('microsoft')\n",
    "ded_sal3 = deduce_salary('infosys')\n",
    "ded_sal4 = deduce_salary('wipro')\n",
    "ded_sal5 = deduce_salary(\"amazon\")\n",
    "\n",
    "deduced_salary = [ded_sal1, ded_sal2, ded_sal3, ded_sal4, ded_sal5]\n",
    "\n",
    "\n",
    "print(deduced_salary)"
   ]
  },
  {
   "cell_type": "markdown",
   "id": "371e5bd0-0d44-4663-b9ae-ad4ff5866749",
   "metadata": {},
   "source": [
    "## TASK 5"
   ]
  },
  {
   "cell_type": "markdown",
   "id": "db4b04d7-269f-4756-a948-30777f3aa984",
   "metadata": {},
   "source": [
    "### use for loop to iterate through implieddata and calcualte the net salary of each employee\n",
    "\n"
   ]
  },
  {
   "cell_type": "code",
   "execution_count": 6,
   "id": "1839bcb8-44d3-456c-a3ec-2608ded5dbb8",
   "metadata": {},
   "outputs": [
    {
     "ename": "TypeError",
     "evalue": "unsupported operand type(s) for -: 'int' and 'list'",
     "output_type": "error",
     "traceback": [
      "\u001b[1;31m---------------------------------------------------------------------------\u001b[0m",
      "\u001b[1;31mTypeError\u001b[0m                                 Traceback (most recent call last)",
      "Cell \u001b[1;32mIn[6], line 6\u001b[0m\n\u001b[0;32m      4\u001b[0m \u001b[38;5;28;01mfor\u001b[39;00m data \u001b[38;5;129;01min\u001b[39;00m data_list:\n\u001b[0;32m      5\u001b[0m     salaries \u001b[38;5;241m=\u001b[39m data[\u001b[38;5;124m'\u001b[39m\u001b[38;5;124msalary\u001b[39m\u001b[38;5;124m'\u001b[39m]\n\u001b[1;32m----> 6\u001b[0m     total_salary \u001b[38;5;241m=\u001b[39m \u001b[43msalaries\u001b[49m\u001b[43m \u001b[49m\u001b[38;5;241;43m-\u001b[39;49m\u001b[43m \u001b[49m\u001b[43m(\u001b[49m\u001b[43mded_rates\u001b[49m\u001b[38;5;241;43m*\u001b[39;49m\u001b[43msalaries\u001b[49m\u001b[43m)\u001b[49m\n\u001b[0;32m      7\u001b[0m     total_sal\u001b[38;5;241m.\u001b[39mappend(total_salary)\n\u001b[0;32m      9\u001b[0m \u001b[38;5;28mprint\u001b[39m(total_sal)\n",
      "\u001b[1;31mTypeError\u001b[0m: unsupported operand type(s) for -: 'int' and 'list'"
     ]
    }
   ],
   "source": [
    "ded_rates= [0.1, 0.2, 0.3 , 0.4 , 0.5]\n",
    "total_sal = []\n",
    "\n",
    "for data in data_list:\n",
    "    salaries = data['salary']\n",
    "    total_salary = salaries - (ded_rates[]*salaries)\n",
    "    total_sal.append(total_salary)\n",
    "\n",
    "print(total_sal)"
   ]
  },
  {
   "cell_type": "markdown",
   "id": "9117ee97-a090-43dc-a20e-ffab1f14d0d6",
   "metadata": {},
   "source": [
    "# special statements\n"
   ]
  },
  {
   "cell_type": "code",
   "execution_count": 18,
   "id": "9a61ed27-135d-4078-a139-9ea0cd316488",
   "metadata": {},
   "outputs": [
    {
     "name": "stdout",
     "output_type": "stream",
     "text": [
      "['NAVYA', 'BAIYYAA JI']\n"
     ]
    }
   ],
   "source": [
    "love = ['NAVYA', \"BAIYYAA JI\"  ,\" \", \"NONE\"]\n",
    "love2=[]\n",
    "\n",
    "for loves in love:\n",
    "    if loves == \" \":\n",
    "        continue\n",
    "    elif loves == \"NONE\":\n",
    "        continue\n",
    "    love2.append(loves)\n",
    "print(love2)\n",
    "        \n",
    "        "
   ]
  },
  {
   "cell_type": "markdown",
   "id": "83db75d1-e125-427d-8d26-49b529a453fa",
   "metadata": {},
   "source": [
    "# default arguments\n"
   ]
  },
  {
   "cell_type": "code",
   "execution_count": null,
   "id": "f5077118-3995-4824-8b73-053ae7233202",
   "metadata": {},
   "outputs": [],
   "source": [
    "##Write a function greet(name, greeting=\"Hello\") that prints a greeting message. If no greeting is provided, the function should default to \"Hello\".\n",
    "\n",
    "def greet(name, greeting=\"HELLO\"):\n",
    "    print(greeting, name, \"!\")\n",
    "\n",
    "greet(\"NAVYA\", \"love you\")"
   ]
  },
  {
   "cell_type": "code",
   "execution_count": null,
   "id": "16ec793d-7e29-447b-9910-b07d40edcafe",
   "metadata": {},
   "outputs": [],
   "source": [
    "#Write a function calculate_area(length, width=5) that calculates the area of a rectangle. If the width is not provided, it should default to 5.\n",
    "def calculate_area(length, width= 5 ):\n",
    "    print(length*width)\n",
    "\n",
    "calculate_area(2,3)\n",
    "calculate_area(2)\n"
   ]
  },
  {
   "cell_type": "code",
   "execution_count": null,
   "id": "bf57635a-891b-4c82-8678-3ff8bcf5d569",
   "metadata": {},
   "outputs": [],
   "source": [
    "#wht will be the output\n",
    "\"\"\"def append_to_list(value, my_list=[]):\n",
    "    my_list.append(value)\n",
    "    return my_list\n",
    "\n",
    "print(append_to_list(10))\n",
    "print(append_to_list(20))\n",
    "\"\"\"\n",
    "def append_to_list(value, my_list=[]):\n",
    "    my_list.append(value)\n",
    "    return my_list\n",
    "\n",
    "print(append_to_list(10))\n",
    "print(append_to_list(20))\n",
    "\n",
    "#output 10\n",
    "#output 20"
   ]
  },
  {
   "cell_type": "code",
   "execution_count": null,
   "id": "157841d7-8ea2-4709-9a14-35dc89b6d9ea",
   "metadata": {},
   "outputs": [],
   "source": []
  }
 ],
 "metadata": {
  "kernelspec": {
   "display_name": "Python 3 (ipykernel)",
   "language": "python",
   "name": "python3"
  },
  "language_info": {
   "codemirror_mode": {
    "name": "ipython",
    "version": 3
   },
   "file_extension": ".py",
   "mimetype": "text/x-python",
   "name": "python",
   "nbconvert_exporter": "python",
   "pygments_lexer": "ipython3",
   "version": "3.13.0"
  }
 },
 "nbformat": 4,
 "nbformat_minor": 5
}
