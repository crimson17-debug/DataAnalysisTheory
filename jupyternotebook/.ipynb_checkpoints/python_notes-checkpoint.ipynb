{
 "cells": [
  {
   "cell_type": "markdown",
   "id": "1d52e6b5-e13c-4da9-acab-9b4927528ede",
   "metadata": {},
   "source": [
    "# python notes"
   ]
  },
  {
   "cell_type": "markdown",
   "id": "80d0613e-6389-43b7-9981-869cf913827e",
   "metadata": {},
   "source": [
    "## data types\n"
   ]
  },
  {
   "cell_type": "code",
   "execution_count": 1,
   "id": "1a0b3b45-8fae-4edf-ad5a-6ec6c86abfbd",
   "metadata": {},
   "outputs": [
    {
     "data": {
      "text/plain": [
       "10"
      ]
     },
     "execution_count": 1,
     "metadata": {},
     "output_type": "execute_result"
    }
   ],
   "source": [
    "#int \n",
    "a = 10\n",
    "a"
   ]
  },
  {
   "cell_type": "code",
   "execution_count": 2,
   "id": "7afb9b7c-0a26-4add-962e-93d0dbca90de",
   "metadata": {},
   "outputs": [
    {
     "data": {
      "text/plain": [
       "'helloworld'"
      ]
     },
     "execution_count": 2,
     "metadata": {},
     "output_type": "execute_result"
    }
   ],
   "source": [
    "#string\n",
    "a = \"helloworld\"\n",
    "a"
   ]
  },
  {
   "cell_type": "code",
   "execution_count": 3,
   "id": "6f71c3b8-2648-4fd0-9253-0208ec00368f",
   "metadata": {},
   "outputs": [
    {
     "data": {
      "text/plain": [
       "10.5"
      ]
     },
     "execution_count": 3,
     "metadata": {},
     "output_type": "execute_result"
    }
   ],
   "source": [
    "#float\n",
    "a = 10.5\n",
    "a"
   ]
  },
  {
   "cell_type": "code",
   "execution_count": 4,
   "id": "e6e3ab8d-cbc0-46d5-a981-61a5d91c43ee",
   "metadata": {},
   "outputs": [
    {
     "data": {
      "text/plain": [
       "(True, False)"
      ]
     },
     "execution_count": 4,
     "metadata": {},
     "output_type": "execute_result"
    }
   ],
   "source": [
    "#boolean\n",
    "a = True\n",
    "b = False\n",
    "a , b"
   ]
  },
  {
   "cell_type": "code",
   "execution_count": 5,
   "id": "e8a7f7d2-4c90-45c2-a12d-b7a6957012ac",
   "metadata": {},
   "outputs": [
    {
     "data": {
      "text/plain": [
       "[1, 2, 3, 4, 5]"
      ]
     },
     "execution_count": 5,
     "metadata": {},
     "output_type": "execute_result"
    }
   ],
   "source": [
    "#list - list is mutable i.e it can be changed by adding, removing, appending etc the elements\n",
    "a = [1,2,3,4,5]\n",
    "a"
   ]
  },
  {
   "cell_type": "code",
   "execution_count": 6,
   "id": "59ea1e61-e239-4e9a-8f01-3cb8c03d32ec",
   "metadata": {},
   "outputs": [
    {
     "data": {
      "text/plain": [
       "(2, 3, 4)"
      ]
     },
     "execution_count": 6,
     "metadata": {},
     "output_type": "execute_result"
    }
   ],
   "source": [
    "#tuple - tuple is immutable the values are fixed once defined\n",
    "a = (2,3,4)\n",
    "a"
   ]
  },
  {
   "cell_type": "code",
   "execution_count": 7,
   "id": "56cf795b-90f6-497a-94e8-e142ba1fbf13",
   "metadata": {},
   "outputs": [
    {
     "data": {
      "text/plain": [
       "{1, 2, 3, 4, 5}"
      ]
     },
     "execution_count": 7,
     "metadata": {},
     "output_type": "execute_result"
    }
   ],
   "source": [
    "#set - an unordered collection of unique elements\n",
    "a = { 1,2,3,4,5}\n",
    "a"
   ]
  },
  {
   "cell_type": "code",
   "execution_count": 8,
   "id": "6e1067d7-9cc4-4b19-a202-33357f5a3c59",
   "metadata": {},
   "outputs": [
    {
     "data": {
      "text/plain": [
       "{'age': 23, 'name': 'navya', 'time': 2}"
      ]
     },
     "execution_count": 8,
     "metadata": {},
     "output_type": "execute_result"
    }
   ],
   "source": [
    "#dictionary - key value pair where key is the variable and value is the value assinged to the variable\n",
    "a = {\"age\":23, \"name\": \"navya\", \"time\":2}\n",
    "a"
   ]
  },
  {
   "cell_type": "markdown",
   "id": "c71f83d9-c5e4-4926-9c6c-928468cbc0a3",
   "metadata": {},
   "source": [
    "# naming variables"
   ]
  },
  {
   "cell_type": "code",
   "execution_count": 9,
   "id": "f4d98953-2f51-4617-8e3f-af0c58faeebf",
   "metadata": {},
   "outputs": [
    {
     "data": {
      "text/plain": [
       "(23, 'navya', 2)"
      ]
     },
     "execution_count": 9,
     "metadata": {},
     "output_type": "execute_result"
    }
   ],
   "source": [
    "\n",
    "age , name , time = 23, \"navya\" , 2\n",
    "age , name , time"
   ]
  },
  {
   "cell_type": "markdown",
   "id": "68d7560e-47a7-4087-bfc9-598aa15e3ca4",
   "metadata": {},
   "source": [
    "# operators"
   ]
  },
  {
   "cell_type": "markdown",
   "id": "393cee5d-a4fe-448f-9f12-4368ef5c9337",
   "metadata": {},
   "source": [
    "## addition"
   ]
  },
  {
   "cell_type": "code",
   "execution_count": 10,
   "id": "866fb0f0-e83e-407b-b02a-ae895b1905cc",
   "metadata": {},
   "outputs": [
    {
     "data": {
      "text/plain": [
       "5"
      ]
     },
     "execution_count": 10,
     "metadata": {},
     "output_type": "execute_result"
    }
   ],
   "source": [
    "a = 2\n",
    "b = 3 \n",
    "a + b "
   ]
  },
  {
   "cell_type": "markdown",
   "id": "6d9c961b-ccdd-4820-bddb-4f968ef34ae7",
   "metadata": {},
   "source": [
    "## subtraction"
   ]
  },
  {
   "cell_type": "code",
   "execution_count": 11,
   "id": "7d92944c-e681-4d63-ae63-3ed6521fdae8",
   "metadata": {},
   "outputs": [
    {
     "data": {
      "text/plain": [
       "-2"
      ]
     },
     "execution_count": 11,
     "metadata": {},
     "output_type": "execute_result"
    }
   ],
   "source": [
    "a = 3\n",
    "b = 5 \n",
    "a-b"
   ]
  },
  {
   "cell_type": "markdown",
   "id": "7775c69c-b61b-46d6-86a4-a37ea8f592c5",
   "metadata": {},
   "source": [
    "## multiplication"
   ]
  },
  {
   "cell_type": "code",
   "execution_count": 12,
   "id": "14546db8-dc36-4a31-bf9d-4816953976f0",
   "metadata": {},
   "outputs": [
    {
     "data": {
      "text/plain": [
       "6"
      ]
     },
     "execution_count": 12,
     "metadata": {},
     "output_type": "execute_result"
    }
   ],
   "source": [
    "a = 2\n",
    "b = 3\n",
    "a * b"
   ]
  },
  {
   "cell_type": "markdown",
   "id": "4af3d5b0-5a7d-44a0-8e30-06cc2cf2dd53",
   "metadata": {},
   "source": [
    "## division"
   ]
  },
  {
   "cell_type": "code",
   "execution_count": 13,
   "id": "6883dc21-17e6-4fc7-8ac8-4baf350d89df",
   "metadata": {},
   "outputs": [
    {
     "data": {
      "text/plain": [
       "1.5"
      ]
     },
     "execution_count": 13,
     "metadata": {},
     "output_type": "execute_result"
    }
   ],
   "source": [
    "a = 3\n",
    "b = 2\n",
    "a/b"
   ]
  },
  {
   "cell_type": "markdown",
   "id": "a5bdfa15-f22d-473b-9f2c-cf746730fcaf",
   "metadata": {},
   "source": [
    "# task \n"
   ]
  },
  {
   "cell_type": "markdown",
   "id": "c196f3a2-0aba-4445-8df6-673c63f191c9",
   "metadata": {},
   "source": [
    "## task1"
   ]
  },
  {
   "cell_type": "code",
   "execution_count": 14,
   "id": "c9102a96-f03e-40b9-bc09-5d2a8ca3c93c",
   "metadata": {},
   "outputs": [
    {
     "data": {
      "text/plain": [
       "{'emp1', 'emp2', 'emp3', 'emp4', 'emp5'}"
      ]
     },
     "execution_count": 14,
     "metadata": {},
     "output_type": "execute_result"
    }
   ],
   "source": [
    "Names_employees = {\"emp1\", \"emp2\" , 'emp3', 'emp4', 'emp5'}\n",
    "Names_employees"
   ]
  },
  {
   "cell_type": "markdown",
   "id": "14c3f2f4-d7d0-4ea5-aff9-f039c109302b",
   "metadata": {},
   "source": [
    "## task2"
   ]
  },
  {
   "cell_type": "code",
   "execution_count": 15,
   "id": "26dd6349-7807-4273-a96f-d5def8711ce2",
   "metadata": {},
   "outputs": [
    {
     "data": {
      "text/plain": [
       "{'google': 1000,\n",
       " 'microsoft': 2000,\n",
       " 'infosys': 3000,\n",
       " 'amazon': 4000,\n",
       " 'wipro': 4000}"
      ]
     },
     "execution_count": 15,
     "metadata": {},
     "output_type": "execute_result"
    }
   ],
   "source": [
    "comp_salary = { 'google':  1000 , 'microsoft':2000 , 'infosys':  3000, 'amazon':  4000 , 'wipro':  4000}\n",
    "comp_salary"
   ]
  },
  {
   "cell_type": "markdown",
   "id": "5b1ef4b6-5d9b-4c72-855c-2513c1336d1d",
   "metadata": {},
   "source": [
    "## task3"
   ]
  },
  {
   "cell_type": "markdown",
   "id": "becd4029-f0de-429d-9bf1-5fcdefeff25f",
   "metadata": {},
   "source": [
    "## TASK4"
   ]
  },
  {
   "cell_type": "code",
   "execution_count": 16,
   "id": "ab22a7e4-36dd-423b-bb58-d00184c21b9d",
   "metadata": {},
   "outputs": [
    {
     "data": {
      "text/plain": [
       "dict_keys(['google', 'microsoft', 'infosys', 'amazon', 'wipro'])"
      ]
     },
     "execution_count": 16,
     "metadata": {},
     "output_type": "execute_result"
    }
   ],
   "source": [
    "comp_salary.values()\n",
    "comp_salary.keys()"
   ]
  },
  {
   "cell_type": "code",
   "execution_count": 17,
   "id": "ac46175b-1a0e-4950-ac49-bfaaf2c6a9d3",
   "metadata": {},
   "outputs": [
    {
     "data": {
      "text/plain": [
       "1000"
      ]
     },
     "execution_count": 17,
     "metadata": {},
     "output_type": "execute_result"
    }
   ],
   "source": [
    "comp_salary['google']"
   ]
  },
  {
   "cell_type": "code",
   "execution_count": 20,
   "id": "2e9f08f7-1807-4af0-9ad0-15762b01d81f",
   "metadata": {},
   "outputs": [
    {
     "name": "stdout",
     "output_type": "stream",
     "text": [
      "100.0\n"
     ]
    }
   ],
   "source": [
    "for elements in comp_salary.keys():\n",
    "    if elements == \"google\":\n",
    "        sal1 = comp_salary['google'] * 0.1\n",
    "\n",
    "print(sal1)\n",
    "        \n",
    "    \n",
    "        "
   ]
  },
  {
   "cell_type": "code",
   "execution_count": null,
   "id": "ef22cf5d-95c0-46b0-bcac-e54f2e79a326",
   "metadata": {},
   "outputs": [],
   "source": [
    "def deduce_salary(company):\n",
    "    if company == \"google\":\n",
    "        print(comp_salary[\"google\"]*0.1)\n",
    "    if company == \"microsoft\":\n",
    "        print(comp_salary[\"microsoft\"]*0.2)\n",
    "    if company == \"infosys\":\n",
    "        print(comp_salary[\"infosys\"]*0.3)\n",
    "    if company == \"wipro\":\n",
    "        print(comp_salary[\"wipro\"]*0.4)"
   ]
  }
 ],
 "metadata": {
  "kernelspec": {
   "display_name": "Python 3 (ipykernel)",
   "language": "python",
   "name": "python3"
  },
  "language_info": {
   "codemirror_mode": {
    "name": "ipython",
    "version": 3
   },
   "file_extension": ".py",
   "mimetype": "text/x-python",
   "name": "python",
   "nbconvert_exporter": "python",
   "pygments_lexer": "ipython3",
   "version": "3.13.0"
  }
 },
 "nbformat": 4,
 "nbformat_minor": 5
}
